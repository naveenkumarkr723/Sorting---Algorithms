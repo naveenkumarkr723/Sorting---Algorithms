{
 "cells": [
  {
   "cell_type": "markdown",
   "metadata": {},
   "source": [
    "## Linear Search:\n",
    "\n",
    "1. Start From the Leftmost element of list and one by one compare \"key\" with each element of the list.\n",
    "\n",
    "2. if \"key\" matches with an element, return True.\n",
    "\n",
    "3. else return False."
   ]
  },
  {
   "cell_type": "code",
   "execution_count": 10,
   "metadata": {},
   "outputs": [
    {
     "name": "stdout",
     "output_type": "stream",
     "text": [
      "the given value 88 is present in the list at index 6\n"
     ]
    }
   ],
   "source": [
    "def linear_search(list1,key):\n",
    "    key = key \n",
    "    for i in range(len(list1)):\n",
    "        if key == list1[i]:\n",
    "            print(\"the given value {} is present in the list at index {}\".format(list1[i],i))\n",
    "            break\n",
    "    else:\n",
    "        print(\"the given value is not present in the list\") \n",
    "            \n",
    "key = 88   \n",
    "list1 = [8,4,98,23,65,47,88]  \n",
    "linear_search(list1,key)"
   ]
  },
  {
   "cell_type": "code",
   "execution_count": null,
   "metadata": {},
   "outputs": [],
   "source": []
  }
 ],
 "metadata": {
  "kernelspec": {
   "display_name": "Python 3",
   "language": "python",
   "name": "python3"
  },
  "language_info": {
   "codemirror_mode": {
    "name": "ipython",
    "version": 3
   },
   "file_extension": ".py",
   "mimetype": "text/x-python",
   "name": "python",
   "nbconvert_exporter": "python",
   "pygments_lexer": "ipython3",
   "version": "3.7.6"
  }
 },
 "nbformat": 4,
 "nbformat_minor": 4
}
