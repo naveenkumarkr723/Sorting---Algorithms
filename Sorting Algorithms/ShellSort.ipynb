{
 "cells": [
  {
   "cell_type": "markdown",
   "metadata": {},
   "source": [
    "## ShellSort Algorithm:\n",
    "\n",
    "    ShellSort is a variation of insertion sort.\n",
    "\n",
    "    This sorting algorithm is devised by Donald L. Shell in 1959.\n",
    "\n",
    "    Somtimes called as \"diminishing increment sort\".\n",
    "\n",
    "\n",
    "### How ShellSort improves Insertion sort algorithm?\n",
    "\n",
    "    By breaking the original list into a number of smaller sublists, each sublist is sorted using the insertion sort.\n",
    "\n",
    "    It will move the items nearer to its original index.\n",
    "\n",
    "\n",
    "## Algorithm:\n",
    "\n",
    "1. Take the list of numbers\n",
    "\n",
    "2. Find out the gap/incrementor\n",
    "\n",
    "3. create the sublist based on gap and sort them using insertion sort algorithm.\n",
    "\n",
    "4. reduce gap and repeat step 3.\n",
    "\n",
    "5. stop when gap is 0.\n",
    "\n",
    "\n",
    "        An insertion sort basically skips to the last step of Shell sort. So shell sort can be considered as a \n",
    "        generalization of insertion sort. But you can also view shell sort as a way to improve the efficiency of insertion    sort by using it  on smaller sublists.\n",
    "\n",
    "        Unlike the Insertion sort, shell sort does not sort the entire array at once. Instead it divides the array into                 noncontiguous segments, which are separately sorted by\n",
    "\n",
    "       using insertion sort"
   ]
  },
  {
   "cell_type": "code",
   "execution_count": 3,
   "metadata": {},
   "outputs": [
    {
     "name": "stdout",
     "output_type": "stream",
     "text": [
      "[0, 2, 4, 5, 5, 7, 7]\n"
     ]
    }
   ],
   "source": [
    "def shell_sort(list1):\n",
    "    gap = len(list1)//2\n",
    "    while gap>0:\n",
    "        for index in range(gap,len(list1)):\n",
    "            current_element = list1[index]\n",
    "            pos = index\n",
    "            while pos >= gap  and current_element < list1[pos-gap] :\n",
    "                list1[pos] = list1[pos-gap]\n",
    "                pos = pos - gap\n",
    "            list1[pos] = current_element\n",
    "        gap = gap//2\n",
    "        \n",
    "        \n",
    "        \n",
    "list1 = [5,7,4,0,2,5,7]        \n",
    "shell_sort(list1)        \n",
    "print(list1)       \n",
    "        \n",
    "        \n",
    "        "
   ]
  },
  {
   "cell_type": "code",
   "execution_count": 2,
   "metadata": {},
   "outputs": [
    {
     "name": "stdout",
     "output_type": "stream",
     "text": [
      "[7, 7, 5, 5, 4, 2, 0]\n"
     ]
    }
   ],
   "source": [
    "def shell_sort(list1):\n",
    "    gap = len(list1)//2\n",
    "    while gap>0:\n",
    "        for index in range(gap,len(list1)):\n",
    "            current_element = list1[index]\n",
    "            pos = index\n",
    "            while pos >= gap  and current_element > list1[pos-gap] :\n",
    "                list1[pos] = list1[pos-gap]\n",
    "                pos = pos - gap\n",
    "            list1[pos] = current_element\n",
    "        gap = gap//2\n",
    "        \n",
    "        \n",
    "        \n",
    "list1 = [5,7,4,0,2,5,7]        \n",
    "shell_sort(list1)        \n",
    "print(list1)       \n",
    "        \n",
    "        \n",
    "        "
   ]
  },
  {
   "cell_type": "code",
   "execution_count": null,
   "metadata": {},
   "outputs": [],
   "source": []
  }
 ],
 "metadata": {
  "kernelspec": {
   "display_name": "Python 3",
   "language": "python",
   "name": "python3"
  },
  "language_info": {
   "codemirror_mode": {
    "name": "ipython",
    "version": 3
   },
   "file_extension": ".py",
   "mimetype": "text/x-python",
   "name": "python",
   "nbconvert_exporter": "python",
   "pygments_lexer": "ipython3",
   "version": "3.7.6"
  }
 },
 "nbformat": 4,
 "nbformat_minor": 4
}
