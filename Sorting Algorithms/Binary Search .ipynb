{
 "cells": [
  {
   "cell_type": "markdown",
   "metadata": {},
   "source": [
    "## Binary Search:\n",
    "\n",
    "0. Sort the given List if it is not sorted\n",
    "\n",
    "1. Findout the middle element in the sorted list.\n",
    "\n",
    "2. Compare \"key\" with the middle element.\n",
    "\n",
    "3. if \"key\" matches with middle element, print message \"key is found\". STOP.\n",
    "\n",
    "4. else if key is greater than the middle element, then \"key\" is searched in right sublist. start with the step 1.\n",
    "\n",
    "5. else if \"key\" is smaller than the middle element \"key\" searched in left sublist. start with step 1.\n",
    "6. else print key is not found."
   ]
  },
  {
   "cell_type": "code",
   "execution_count": 1,
   "metadata": {},
   "outputs": [
    {
     "name": "stdout",
     "output_type": "stream",
     "text": [
      "[4, 8, 23, 47, 65, 88, 98]\n"
     ]
    }
   ],
   "source": [
    "def Binary_Search(list1 , key ):\n",
    "    low = 0\n",
    "    high = len(list1)-1\n",
    "    \n",
    "    found = False\n",
    "    \n",
    "    while low<=high and not found:\n",
    "        mid = (low+high)//2\n",
    "        if key == list1[mid]:\n",
    "            #print(\"key has found : \", key)\n",
    "            found = True\n",
    "        elif key > list1[mid]:\n",
    "            low = mid+1\n",
    "        else:\n",
    "            high = mid-1\n",
    "    \n",
    "        \n",
    "key = 201    \n",
    "list1 = [8,4,98,23,65,47,88] \n",
    "list1.sort()   \n",
    "print(list1)\n",
    "Binary_Search(list1 , key )"
   ]
  },
  {
   "cell_type": "code",
   "execution_count": null,
   "metadata": {},
   "outputs": [],
   "source": []
  },
  {
   "cell_type": "code",
   "execution_count": null,
   "metadata": {},
   "outputs": [],
   "source": []
  }
 ],
 "metadata": {
  "kernelspec": {
   "display_name": "Python 3",
   "language": "python",
   "name": "python3"
  },
  "language_info": {
   "codemirror_mode": {
    "name": "ipython",
    "version": 3
   },
   "file_extension": ".py",
   "mimetype": "text/x-python",
   "name": "python",
   "nbconvert_exporter": "python",
   "pygments_lexer": "ipython3",
   "version": "3.7.6"
  }
 },
 "nbformat": 4,
 "nbformat_minor": 4
}
