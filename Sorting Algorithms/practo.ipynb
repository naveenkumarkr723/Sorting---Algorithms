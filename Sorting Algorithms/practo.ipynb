{
 "cells": [
  {
   "cell_type": "code",
   "execution_count": 64,
   "metadata": {},
   "outputs": [
    {
     "data": {
      "text/plain": [
       "[5, 7, 3, 9, 5, 2, 0, 1, 89, 98, 56, 8, 56, 7, 526.56, 7]"
      ]
     },
     "execution_count": 64,
     "metadata": {},
     "output_type": "execute_result"
    }
   ],
   "source": [
    "a = [5,7,3,9,5,2,0,1,89,98,56,8,56,7,526.56,7]\n",
    "a"
   ]
  },
  {
   "cell_type": "code",
   "execution_count": null,
   "metadata": {},
   "outputs": [],
   "source": []
  },
  {
   "cell_type": "code",
   "execution_count": 54,
   "metadata": {},
   "outputs": [
    {
     "data": {
      "text/plain": [
       "16"
      ]
     },
     "execution_count": 54,
     "metadata": {},
     "output_type": "execute_result"
    }
   ],
   "source": [
    "len(a)"
   ]
  },
  {
   "cell_type": "code",
   "execution_count": 71,
   "metadata": {},
   "outputs": [
    {
     "name": "stdout",
     "output_type": "stream",
     "text": [
      "the selection sorted algorithm is : [0, 1, 2, 3, 5, 5, 7, 7, 7, 8, 9, 56, 56, 89, 98, 526.56]\n"
     ]
    }
   ],
   "source": [
    "for i in range(len(a)):\n",
    "    #min_val = min(a[i:])\n",
    "    for i in range(len(a)-1):\n",
    "        min_val = a[i]\n",
    "        for j in range(i+1, len(a)):\n",
    "            if min_val > a[j]:\n",
    "                min_val = a[j]\n",
    "\n",
    "            min_index = a.index(min_val,i)\n",
    "\n",
    "            if a[i] != a.index(min_val) :\n",
    "                a[i], a[min_index] = a[min_index],a[i] \n",
    "\n",
    "print(\"the selection sorted algorithm is :\" , a)"
   ]
  },
  {
   "cell_type": "code",
   "execution_count": 72,
   "metadata": {},
   "outputs": [],
   "source": [
    "min_val = a[0]\n",
    "for j in range(i+1, len(a)):\n",
    "    if min_val > a[j]:\n",
    "        min_val = a[j]"
   ]
  },
  {
   "cell_type": "code",
   "execution_count": 73,
   "metadata": {},
   "outputs": [
    {
     "data": {
      "text/plain": [
       "0"
      ]
     },
     "execution_count": 73,
     "metadata": {},
     "output_type": "execute_result"
    }
   ],
   "source": [
    "min_val"
   ]
  },
  {
   "cell_type": "code",
   "execution_count": 86,
   "metadata": {
    "scrolled": false
   },
   "outputs": [
    {
     "name": "stdout",
     "output_type": "stream",
     "text": [
      "[2, 3, 7, 5, 8, 9, 3, 9, 2, 6]\n",
      "\n",
      "[2, 2, 3, 3, 5, 6, 7, 8, 9, 9]\n"
     ]
    }
   ],
   "source": [
    "a = [2,3,7,5,8,9,3,9,2,6]\n",
    "print(a)\n",
    "\n",
    "for j in range(len(a)-1,0,-1):\n",
    "    for i in range(len(a)-1):\n",
    "        if a[i] > a[i+1]:\n",
    "            a[i],a[i+1] = a[i+1],a[i]\n",
    "            \n",
    "\n",
    "print()\n",
    "print(a)"
   ]
  },
  {
   "cell_type": "code",
   "execution_count": 7,
   "metadata": {},
   "outputs": [],
   "source": [
    "def find_pivot(list2 , first, last):\n",
    "    pivot = list2[first]\n",
    "    left = first+1\n",
    "    right = last\n",
    "    \n",
    "    while True:\n",
    "        while left <= right and list2[left] <= pivot:\n",
    "            left = left+1\n",
    "        while left <= right and list2[right] >= pivot:\n",
    "            right -=1\n",
    "\n",
    "        ### to break the whole process\n",
    "        if right < left : \n",
    "            break\n",
    "        else:\n",
    "            list2[left],list2[right] = list2[right],list2[left]\n",
    "\n",
    "    list2[first],list2[right] = list2[right],list2[first]\n",
    "    \n",
    "    return right\n",
    "\n",
    "\n",
    "\n",
    "def quicksort(list2,first,last):\n",
    "    if first<last:\n",
    "        p = find_pivot(list2 , first, last)\n",
    "        quicksort(list2,first,p-1)\n",
    "        quicksort(list2,p+1,last)\n",
    "        \n",
    "        "
   ]
  },
  {
   "cell_type": "code",
   "execution_count": 9,
   "metadata": {},
   "outputs": [],
   "source": [
    "list2 = [1,3,45,6,5,6,4.5,89,0]\n",
    "\n",
    "leng = len(list2)\n",
    "\n",
    "first = 0\n",
    "last = len(list2)-1\n",
    "\n",
    "quicksort(list2,first,last)"
   ]
  },
  {
   "cell_type": "code",
   "execution_count": 10,
   "metadata": {},
   "outputs": [
    {
     "name": "stdout",
     "output_type": "stream",
     "text": [
      "[0, 1, 3, 4.5, 5, 6, 6, 45, 89]\n"
     ]
    }
   ],
   "source": [
    "print(list2)"
   ]
  },
  {
   "cell_type": "code",
   "execution_count": null,
   "metadata": {},
   "outputs": [],
   "source": []
  }
 ],
 "metadata": {
  "kernelspec": {
   "display_name": "Python 3",
   "language": "python",
   "name": "python3"
  },
  "language_info": {
   "codemirror_mode": {
    "name": "ipython",
    "version": 3
   },
   "file_extension": ".py",
   "mimetype": "text/x-python",
   "name": "python",
   "nbconvert_exporter": "python",
   "pygments_lexer": "ipython3",
   "version": "3.7.6"
  }
 },
 "nbformat": 4,
 "nbformat_minor": 4
}
